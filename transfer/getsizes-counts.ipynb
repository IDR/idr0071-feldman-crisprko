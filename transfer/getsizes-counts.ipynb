{
 "cells": [
  {
   "cell_type": "code",
   "execution_count": 1,
   "metadata": {},
   "outputs": [],
   "source": [
    "from collections import Counter\n",
    "import omero.clients\n",
    "from tqdm import tqdm\n",
    "\n",
    "client = omero.client('localhost')\n",
    "session = client.createSession(USERNAME, PASSWORD)\n",
    "client.enableKeepAlive(60)\n",
    "qs = client.getSession().getQueryService()\n",
    "\n",
    "def batchgen(arr, size):\n",
    "    for n in range(0, len(arr), size):\n",
    "        yield arr[n:n + size]"
   ]
  },
  {
   "cell_type": "code",
   "execution_count": 2,
   "metadata": {},
   "outputs": [],
   "source": [
    "project_ids = omero.rtypes.unwrap(qs.projection(\"SELECT id FROM Project WHERE name LIKE 'idr0071%'\", None))\n",
    "\n",
    "pixel_ids = []\n",
    "for p in project_ids:\n",
    "    h = client.submit(omero.cmd.FindChildren({'Project': p}, ['Pixels']),loops=120,ms=1000)\n",
    "    r = h.getResponse()\n",
    "    pixel_ids.append(r.children['ome.model.core.Pixels'])\n",
    "    h.close(True)"
   ]
  },
  {
   "cell_type": "code",
   "execution_count": 3,
   "metadata": {},
   "outputs": [
    {
     "name": "stderr",
     "output_type": "stream",
     "text": [
      "100%|██████████| 45/45 [00:03<00:00, 13.30it/s]\n",
      "100%|██████████| 22/22 [00:01<00:00, 14.18it/s]\n",
      "100%|██████████| 45/45 [00:03<00:00, 13.93it/s]\n",
      "100%|██████████| 45/45 [00:03<00:00, 13.97it/s]\n",
      "100%|██████████| 6/6 [00:00<00:00, 16.38it/s]\n",
      "100%|██████████| 45/45 [00:03<00:00, 13.98it/s]"
     ]
    },
    {
     "name": "stdout",
     "output_type": "stream",
     "text": [
      "(1024, 1024, 1, 1, 5):\t83140\n",
      "(1024, 1024, 1, 2, 1):\t19186\n",
      "(1024, 1024, 1, 1, 1):\t26268\n",
      "(1024, 1024, 9, 5, 1):\t12790\n",
      "(1024, 1024, 1, 5, 1):\t36095\n",
      "(2048, 2048, 1, 1, 5):\t12791\n",
      "(2048, 2048, 6, 5, 1):\t4264\n",
      "(2048, 2048, 1, 1, 1):\t4264\n",
      "(2048, 2048, 1, 5, 1):\t26\n",
      "(1024, 1024, 1, 1, 2):\t6396\n",
      "(1024, 1024, 12, 5, 1):\t686\n"
     ]
    },
    {
     "name": "stderr",
     "output_type": "stream",
     "text": [
      "\n"
     ]
    }
   ],
   "source": [
    "pixel_sizes = []\n",
    "for pxids in pixel_ids:\n",
    "    for batch in tqdm(list(batchgen(pxids, 1000))):\n",
    "        params = omero.sys.ParametersI()\n",
    "        params.addIds(batch)\n",
    "        pixel_sizes.extend(omero.rtypes.unwrap(qs.projection('SELECT sizeX, sizeY, sizeZ, sizeC, sizeT FROM Pixels WHERE id in (:ids)', params)))\n",
    "\n",
    "c = Counter(tuple(p) for p in pixel_sizes)\n",
    "\n",
    "for k in c:\n",
    "    print(f'{k}:\\t{c[k]}')"
   ]
  }
 ],
 "metadata": {
  "kernelspec": {
   "display_name": "Python 3",
   "language": "python",
   "name": "python3"
  },
  "language_info": {
   "codemirror_mode": {
    "name": "ipython",
    "version": 3
   },
   "file_extension": ".py",
   "mimetype": "text/x-python",
   "name": "python",
   "nbconvert_exporter": "python",
   "pygments_lexer": "ipython3",
   "version": "3.7.7"
  }
 },
 "nbformat": 4,
 "nbformat_minor": 4
}
