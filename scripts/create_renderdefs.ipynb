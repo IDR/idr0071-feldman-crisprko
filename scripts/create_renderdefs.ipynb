{
 "cells": [
  {
   "cell_type": "markdown",
   "metadata": {},
   "source": [
    "Set channel names"
   ]
  },
  {
   "cell_type": "code",
   "execution_count": 1,
   "metadata": {},
   "outputs": [],
   "source": [
    "import pandas as pd\n",
    "import yaml"
   ]
  },
  {
   "cell_type": "code",
   "execution_count": 2,
   "metadata": {},
   "outputs": [
    {
     "name": "stderr",
     "output_type": "stream",
     "text": [
      "/home/spli/miniconda3/envs/idr0071/lib/python3.8/site-packages/IPython/core/interactiveshell.py:3338: DtypeWarning: Columns (3,6,7,9,10,11,13,14,15,16,17) have mixed types.Specify dtype option on import or set low_memory=False.\n",
      "  if (await self.run_code(code, result,  async_=asy)):\n"
     ]
    }
   ],
   "source": [
    "updated_anns = dict((\n",
    "    exp, pd.read_csv(\n",
    "        f'../experiment{exp}/idr0071-experiment{exp}-annotation-updated.csv'))\n",
    "    for exp in 'ABCDEF')"
   ]
  },
  {
   "cell_type": "code",
   "execution_count": 3,
   "metadata": {},
   "outputs": [
    {
     "name": "stdout",
     "output_type": "stream",
     "text": [
      "A\n",
      "B\n",
      "C\n",
      "D\n",
      "E\n",
      "F\n"
     ]
    }
   ],
   "source": [
    "for exp in 'ABCDEF':\n",
    "    print(exp)\n",
    "    anns = updated_anns[exp]\n",
    "    dschannels = anns[['Dataset Name', 'Channels']]\n",
    "    unique_rows = dschannels.copy().drop_duplicates()\n",
    "    assert len(unique_rows) == len(dschannels['Dataset Name'].unique())\n",
    "\n",
    "    project = {'name': f'idr0071-feldman-crisprko/experiment{exp}', 'datasets': []}\n",
    "    for r in unique_rows.iterrows():\n",
    "        dataset, channels = r[1]\n",
    "        rdef = {\n",
    "                'greyscale': False,\n",
    "                'channels': dict((n + 1, {'label': c, 'active': True})\n",
    "                                 for (n, c) in enumerate(channels.split(':'))),\n",
    "        }\n",
    "        project['datasets'].append({'name': dataset, 'renderdef': rdef})\n",
    "\n",
    "    with open (f'../experiment{exp}/renderdefs.yml', 'w') as f:\n",
    "        yaml.safe_dump({'projects': [project]}, f)"
   ]
  },
  {
   "cell_type": "code",
   "execution_count": null,
   "metadata": {},
   "outputs": [],
   "source": []
  }
 ],
 "metadata": {
  "kernelspec": {
   "display_name": "Python 3",
   "language": "python",
   "name": "python3"
  },
  "language_info": {
   "codemirror_mode": {
    "name": "ipython",
    "version": 3
   },
   "file_extension": ".py",
   "mimetype": "text/x-python",
   "name": "python",
   "nbconvert_exporter": "python",
   "pygments_lexer": "ipython3",
   "version": "3.8.5"
  }
 },
 "nbformat": 4,
 "nbformat_minor": 4
}
