{
 "cells": [
  {
   "cell_type": "code",
   "execution_count": 1,
   "id": "virtual-cedar",
   "metadata": {},
   "outputs": [],
   "source": [
    "from collections import defaultdict\n",
    "import os\n",
    "import yaml\n",
    "import omero.clients\n",
    "from omero.gateway import BlitzGateway\n",
    "from omero.rtypes import unwrap"
   ]
  },
  {
   "cell_type": "code",
   "execution_count": 2,
   "id": "exotic-jacob",
   "metadata": {},
   "outputs": [],
   "source": [
    "with open(os.path.expanduser('~/blitzgateway-credentials.yml')) as f:\n",
    "    creds = yaml.safe_load(f)\n",
    "conn = BlitzGateway(**creds, secure=True)\n",
    "c = conn.connect()\n",
    "assert c"
   ]
  },
  {
   "cell_type": "code",
   "execution_count": 3,
   "id": "beautiful-pendant",
   "metadata": {},
   "outputs": [],
   "source": [
    "qs = conn.c.getSession().getQueryService()\n",
    "params = omero.sys.ParametersI()"
   ]
  },
  {
   "cell_type": "code",
   "execution_count": 4,
   "id": "generic-delight",
   "metadata": {},
   "outputs": [
    {
     "name": "stdout",
     "output_type": "stream",
     "text": [
      "[]\n"
     ]
    }
   ],
   "source": [
    "rs = qs.projection(\"\"\"\n",
    "    SELECT i.id, i.name\n",
    "    FROM Project p\n",
    "    JOIN p.datasetLinks pdl\n",
    "    JOIN pdl.child ds\n",
    "    JOIN ds.imageLinks dil\n",
    "    JOIN dil.child i\n",
    "    JOIN i.pixels px\n",
    "    JOIN px.channels c\n",
    "    JOIN c.logicalChannel lc\n",
    "    WHERE p.name LIKE 'idr0071%'\n",
    "    AND lc.name = '0'\n",
    "\"\"\", params)\n",
    "print(unwrap(rs))"
   ]
  },
  {
   "cell_type": "code",
   "execution_count": 5,
   "id": "incident-jewel",
   "metadata": {},
   "outputs": [
    {
     "name": "stdout",
     "output_type": "stream",
     "text": [
      "[['A594'], ['Cy7'], ['Cy5'], ['Cells'], ['DAPI'], ['Cy3'], ['p65'], ['Nuclei']]\n"
     ]
    }
   ],
   "source": [
    "rs = qs.projection(\"\"\"\n",
    "    SELECT DISTINCT(lc.name)\n",
    "    FROM Project p\n",
    "    JOIN p.datasetLinks pdl\n",
    "    JOIN pdl.child ds\n",
    "    JOIN ds.imageLinks dil\n",
    "    JOIN dil.child i\n",
    "    JOIN i.pixels px\n",
    "    JOIN px.channels c\n",
    "    LEFT OUTER JOIN c.logicalChannel lc\n",
    "    WHERE p.name LIKE 'idr0071%'\n",
    "\"\"\", params)\n",
    "print(unwrap(rs))"
   ]
  },
  {
   "cell_type": "code",
   "execution_count": 6,
   "id": "viral-sigma",
   "metadata": {},
   "outputs": [],
   "source": [
    "rs = unwrap(qs.projection(\"\"\"\n",
    "    SELECT i.id, lc.name\n",
    "    FROM Project p\n",
    "    JOIN p.datasetLinks pdl\n",
    "    JOIN pdl.child ds\n",
    "    JOIN ds.imageLinks dil\n",
    "    JOIN dil.child i\n",
    "    JOIN i.pixels px\n",
    "    JOIN px.channels c\n",
    "    LEFT OUTER JOIN c.logicalChannel lc\n",
    "    WHERE p.name LIKE 'idr0071%'\n",
    "\"\"\", params))\n",
    "\n",
    "image_channel_list = defaultdict(set)\n",
    "for r in rs:\n",
    "    image_channel_list[r[0]].add(r[1])"
   ]
  },
  {
   "cell_type": "code",
   "execution_count": 7,
   "id": "metallic-bleeding",
   "metadata": {},
   "outputs": [],
   "source": [
    "nimages = len(image_channel_list)\n",
    "assert nimages == 218673\n",
    "assert len([i for i in image_channel_list.keys() if len(image_channel_list[i]) == 0]) == 0"
   ]
  },
  {
   "cell_type": "code",
   "execution_count": 8,
   "id": "isolated-nevada",
   "metadata": {},
   "outputs": [],
   "source": [
    "conn.close()"
   ]
  },
  {
   "cell_type": "code",
   "execution_count": null,
   "id": "formal-delay",
   "metadata": {},
   "outputs": [],
   "source": []
  }
 ],
 "metadata": {
  "kernelspec": {
   "display_name": "Python 3",
   "language": "python",
   "name": "python3"
  },
  "language_info": {
   "codemirror_mode": {
    "name": "ipython",
    "version": 3
   },
   "file_extension": ".py",
   "mimetype": "text/x-python",
   "name": "python",
   "nbconvert_exporter": "python",
   "pygments_lexer": "ipython3",
   "version": "3.8.5"
  }
 },
 "nbformat": 4,
 "nbformat_minor": 5
}
